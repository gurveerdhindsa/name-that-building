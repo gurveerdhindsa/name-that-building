{
 "cells": [
  {
   "cell_type": "markdown",
   "metadata": {
    "colab_type": "text",
    "id": "GNSa4IkExiFq"
   },
   "source": [
    "# name-that-building"
   ]
  },
  {
   "cell_type": "code",
   "execution_count": 0,
   "metadata": {
    "colab": {},
    "colab_type": "code",
    "id": "CNMEiVIQxwgi"
   },
   "outputs": [],
   "source": [
    "!wget https://github.com/rohank07/ML_A3/blob/master/model.zip?raw=true\n",
    "!unzip model.zip?raw=true\n",
    "\n",
    "from keras.models import load_model\n",
    "from google.colab import files\n"
   ]
  },
  {
   "cell_type": "code",
   "execution_count": 0,
   "metadata": {
    "colab": {},
    "colab_type": "code",
    "id": "L8fjRBZk7Ver"
   },
   "outputs": [],
   "source": [
    "import numpy as np\n",
    "from PIL import Image\n",
    "import matplotlib.pyplot as plt\n",
    "from keras.models import load_model\n",
    "# List of building codes to use throughout notebook.\n",
    "buildingCodes = ('AA', 'CB', 'CT', 'DT', 'FH', 'HP', 'HS', 'LB', 'MC', 'ME', 'ML', 'PA', 'RB', 'RO', 'SA', 'TB')\n",
    "\n",
    "def prepareModel():\n",
    "  global model # Sample global variable that you may populate here.\n",
    "  model = load_model('model/model.h5')\n"
   ]
  },
  {
   "cell_type": "code",
   "execution_count": 0,
   "metadata": {
    "colab": {},
    "colab_type": "code",
    "id": "bEyCQvB97e7r"
   },
   "outputs": [],
   "source": [
    "def classifyImage(fname):\n",
    "  global model\n",
    "  tdf = pd.DataFrame(columns=[\"Image\",\"label\"])\n",
    "  tdf.loc[0] = [fname,\"\"]\n",
    "  pred_gen = ImageDataGenerator(rescale = 1./255,\n",
    "    fill_mode='nearest',\n",
    "    width_shift_range=0.2,\n",
    "    height_shift_range=0.2)\n",
    "  predict_generator = pred_gen.flow_from_dataframe(\n",
    "      tdf,\n",
    "      x_col= \"x_col\", \n",
    "      y_col = \"y_col\", \n",
    "      target_size=(500,500), \n",
    "      batch_size=50)\n",
    "  print(\"Predicting class of '{0:s}' using model '{1:s}'\".format(fname,model))\n",
    "  predict = model.predict(predict_generator)\n",
    "  return buildingCodes[np.argmax(predict[0])] "
   ]
  },
  {
   "cell_type": "code",
   "execution_count": 0,
   "metadata": {
    "colab": {},
    "colab_type": "code",
    "id": "KXIfcA-h8Qy8"
   },
   "outputs": [],
   "source": [
    "def worstRecall():\n",
    "  return buildingCodes[12] #Default behaviour to override\n"
   ]
  },
  {
   "cell_type": "code",
   "execution_count": 0,
   "metadata": {
    "colab": {},
    "colab_type": "code",
    "id": "LgEDW_C18gT8"
   },
   "outputs": [],
   "source": [
    "def bestPrecision():\n",
    "  return buildingCodes[3] #Default behaviour to override\n"
   ]
  },
  {
   "cell_type": "code",
   "execution_count": 0,
   "metadata": {
    "colab": {},
    "colab_type": "code",
    "id": "koCbpSHu89Ak"
   },
   "outputs": [],
   "source": [
    "# Function to return estimated accuracy that will be obtained across all test images\n",
    "def estimatedAccuracy():\n",
    "  return 0.07258065 "
   ]
  },
  {
   "cell_type": "code",
   "execution_count": 0,
   "metadata": {
    "colab": {},
    "colab_type": "code",
    "id": "NT54nVtx9t99"
   },
   "outputs": [],
   "source": [
    "# Function to return estimated accuracy that will be obtained across all test images\n",
    "def estimatedAccuracy():\n",
    "  return 1.0 #Default behaviour to override"
   ]
  },
  {
   "cell_type": "code",
   "execution_count": 0,
   "metadata": {
    "colab": {},
    "colab_type": "code",
    "id": "pzvLYlIA97yc"
   },
   "outputs": [],
   "source": [
    "import numpy as np\n",
    "from PIL import Image, ExifTags\n",
    "import matplotlib.pyplot as plt\n",
    "from glob import glob\n",
    "\n",
    "\n",
    "# First prepare the model:\n",
    "prepareModel() # Limited to 5 minutes...\n",
    "\n",
    "# Load (secret) test data into local Colab environment\n",
    "!wget https://github.com/jrgreen7/SYSC4906/blob/master/Assignments/Assignment3/Images/SampleImages.zip?raw=true\n",
    "!unzip SampleImages.zip?raw=true #Should create 4 images\n",
    "test_images = sorted(glob('SampleImages/*.jpg'))\n",
    "actual_labels = (buildingCodes[0],buildingCodes[1],buildingCodes[3],buildingCodes[6])\n",
    "\n",
    "# Classify sample test images:\n",
    "TP = 0\n",
    "for imgFname,actual_label in (zip(test_images,actual_labels)):\n",
    "  pred_label = classifyImage(imgFname) # Predict the label of this image file\n",
    "\n",
    "  # Plot the image with actual and predicted labels\n",
    "  # Note that we may have to rotate the image, depending on the \n",
    "  # orientation of the camera. Use EXIF tags for this:\n",
    "  im = Image.open(imgFname)\n",
    "  for orientation in ExifTags.TAGS.keys() : \n",
    "    if ExifTags.TAGS[orientation]=='Orientation' : break \n",
    "  exif=dict(im._getexif().items())\n",
    "\n",
    "  if exif[orientation] == 3 : \n",
    "    im=im.rotate(180, expand=True)\n",
    "  elif exif[orientation] == 6 : \n",
    "    im=im.rotate(270, expand=True)\n",
    "  elif exif[orientation] == 8 : \n",
    "    im=im.rotate(90, expand=True)\n",
    "\n",
    "  im = im.convert('RGB') # May not be necessary?\n",
    "\n",
    "  plt.title(\"Sample test image of {0:s} predicted as {1:s}\".format(actual_label, pred_label))\n",
    "  plt.imshow(np.asarray(im))\n",
    "  plt.axis('off')\n",
    "  plt.show()\n",
    "\n",
    "  if (pred_label==actual_label):\n",
    "    print('Correct!')\n",
    "    TP += 1\n",
    "  else:\n",
    "    print(\"Incorrect...\")\n",
    "\n",
    "# Print the predicted performance:\n",
    "print(\"Expected that worst recall would be on {0:s}\".format(worstRecall()))\n",
    "print(\"Expected that best precision would be on {0:s}\".format(bestPrecision()))\n",
    "print(\"Expected total accuracy would be {0:.3f}\".format(estimatedAccuracy()))\n",
    "print(\"Actual total accuracy is {0:.3f}\".format((TP)/(len(test_images))))\n"
   ]
  }
 ],
 "metadata": {
  "colab": {
   "collapsed_sections": [],
   "name": "deployModel.ipynb",
   "provenance": []
  },
  "kernelspec": {
   "display_name": "Python 3",
   "language": "python",
   "name": "python3"
  },
  "language_info": {
   "codemirror_mode": {
    "name": "ipython",
    "version": 3
   },
   "file_extension": ".py",
   "mimetype": "text/x-python",
   "name": "python",
   "nbconvert_exporter": "python",
   "pygments_lexer": "ipython3",
   "version": "3.7.3"
  }
 },
 "nbformat": 4,
 "nbformat_minor": 1
}
